{
 "cells": [
  {
   "cell_type": "code",
   "execution_count": 1,
   "id": "ea3f061a",
   "metadata": {},
   "outputs": [],
   "source": [
    "import pandas as pd\n",
    "import os\n",
    "import matplotlib.pyplot as plt\n",
    "import logging\n",
    "\n",
    "# Configuração de logging\n",
    "logging.basicConfig(\n",
    "    filename='log_usuario.txt',\n",
    "    level=logging.INFO,\n",
    "    format='%(asctime)s - %(levelname)s - %(message)s'\n",
    ")\n",
    "logging.info(\"Programa iniciado.\")"
   ]
  },
  {
   "cell_type": "code",
   "execution_count": 2,
   "id": "d1278dc4",
   "metadata": {},
   "outputs": [
    {
     "name": "stdout",
     "output_type": "stream",
     "text": [
      "Usuário validado!\n"
     ]
    }
   ],
   "source": [
    "while True:\n",
    "    nome = input(\"Digite seu nome: \")\n",
    "\n",
    "    if nome.replace(\" \", \"\").isalpha() and len(nome) >= 3:\n",
    "        logging.info(f'Usuário validado: {nome}')\n",
    "        print('Usuário validado!')\n",
    "        break\n",
    "\n",
    "    print(\"Nome inválido. Deve conter apenas letras e ter pelo menos 3 caracteres.\")\n",
    "    logging.warning(\"Tentativa de nome inválido.\")"
   ]
  },
  {
   "cell_type": "code",
   "execution_count": 3,
   "id": "a697ff85",
   "metadata": {},
   "outputs": [
    {
     "name": "stdout",
     "output_type": "stream",
     "text": [
      "Resumo estatístico dos dados carregados.\n",
      "\n",
      "               Age  Attendance (%)  Midterm_Score  Final_Score  \\\n",
      "count  5000.000000     4484.000000    5000.000000  5000.000000   \n",
      "mean     21.048400       75.431409      70.326844    69.640788   \n",
      "std       1.989786       14.372446      17.213209    17.238744   \n",
      "min      18.000000       50.010000      40.000000    40.000000   \n",
      "25%      19.000000       63.265000      55.457500    54.667500   \n",
      "50%      21.000000       75.725000      70.510000    69.735000   \n",
      "75%      23.000000       87.472500      84.970000    84.500000   \n",
      "max      24.000000      100.000000      99.980000    99.980000   \n",
      "\n",
      "       Assignments_Avg  Quizzes_Avg  Participation_Score  Projects_Score  \\\n",
      "count      4483.000000  5000.000000          5000.000000     5000.000000   \n",
      "mean         74.798673    74.910728             4.980024       74.924860   \n",
      "std          14.411799    14.504281             2.890136       14.423415   \n",
      "min          50.000000    50.030000             0.000000       50.010000   \n",
      "25%          62.090000    62.490000             2.440000       62.320000   \n",
      "50%          74.810000    74.695000             4.955000       74.980000   \n",
      "75%          86.970000    87.630000             7.500000       87.367500   \n",
      "max          99.980000    99.960000            10.000000      100.000000   \n",
      "\n",
      "       Total_Score  Study_Hours_per_Week  Stress_Level (1-10)  \\\n",
      "count  5000.000000           5000.000000           5000.00000   \n",
      "mean     75.121804             17.658860              5.48080   \n",
      "std      14.399941              7.275864              2.86155   \n",
      "min      50.020000              5.000000              1.00000   \n",
      "25%      62.835000             11.400000              3.00000   \n",
      "50%      75.395000             17.500000              5.00000   \n",
      "75%      87.652500             24.100000              8.00000   \n",
      "max      99.990000             30.000000             10.00000   \n",
      "\n",
      "       Sleep_Hours_per_Night  \n",
      "count            5000.000000  \n",
      "mean                6.488140  \n",
      "std                 1.452283  \n",
      "min                 4.000000  \n",
      "25%                 5.200000  \n",
      "50%                 6.500000  \n",
      "75%                 7.700000  \n",
      "max                 9.000000  \n"
     ]
    }
   ],
   "source": [
    "path = input(\"Qual o caminho do seu arquivo? \")\n",
    "# C:/Users/vinic/Documents/Faculdade/4º Semestre/Nova pasta/testeee/Students_Grading_Dataset.csv\n",
    "logging.info(f'Caminho do arquivo informado: {path}')\n",
    "\n",
    "df = None  # Inicializa df fora do bloco de leitura\n",
    "\n",
    "if not os.path.exists(path):\n",
    "    print(\"Erro: O arquivo não foi encontrado.\")\n",
    "    logging.error(\"Arquivo não encontrado.\")\n",
    "else:\n",
    "    try:\n",
    "        ext = os.path.splitext(path)[1].lower()\n",
    "\n",
    "        if ext == \".csv\":\n",
    "            df = pd.read_csv(path, encoding=\"utf-8\")\n",
    "            logging.info(\"Arquivo CSV carregado com sucesso.\")\n",
    "        elif ext == \".json\":\n",
    "            df = pd.read_json(path, encoding=\"utf-8\")\n",
    "            logging.info(\"Arquivo JSON carregado com sucesso.\")\n",
    "        else:\n",
    "            print(\"Erro: Formato de arquivo não suportado.\")\n",
    "            logging.error(f\"Formato não suportado: {ext}\")\n",
    "\n",
    "        if df is not None:\n",
    "            print('Resumo estatístico dos dados carregados.\\n')\n",
    "            print(df.describe())\n",
    "            logging.info(\"Resumo estatístico do DataFrame exibido.\")\n",
    "    except Exception as e:\n",
    "        print(\"Erro ao carregar o arquivo:\", e)\n",
    "        logging.error(f\"Erro ao carregar o arquivo: {e}\")"
   ]
  },
  {
   "cell_type": "code",
   "execution_count": 4,
   "id": "ba6f2f9b",
   "metadata": {},
   "outputs": [
    {
     "name": "stdout",
     "output_type": "stream",
     "text": [
      "Quantidade total de registros: 5000\n",
      "Quantidade de homens: 2551\n",
      "Quantidade de mulheres: 2449\n",
      "Registros sem dados sobre a educação dos pais: 1794\n"
     ]
    }
   ],
   "source": [
    "try:\n",
    "    print(\"Quantidade total de registros:\", len(df))\n",
    "    print(\"Quantidade de homens:\", len(df[df['Gender'] == 'Male']))\n",
    "    print(\"Quantidade de mulheres:\", len(df[df['Gender'] == 'Female']))\n",
    "    print(\"Registros sem dados sobre a educação dos pais:\", df['Parent_Education_Level'].isna().sum())\n",
    "    logging.info(\"Estatísticas iniciais de gênero e educação dos pais exibidas.\")\n",
    "except Exception as e:\n",
    "    print(\"Erro ao exibir estatísticas iniciais:\", e)\n",
    "    logging.error(f\"Erro nas estatísticas iniciais: {e}\")"
   ]
  },
  {
   "cell_type": "code",
   "execution_count": 5,
   "id": "f42bbc58",
   "metadata": {},
   "outputs": [
    {
     "name": "stdout",
     "output_type": "stream",
     "text": [
      "Quantidade total de registros: 5000\n",
      "Resultado após a limpeza: 3206\n",
      "Somatório de Attendance (%): 241821.98\n"
     ]
    }
   ],
   "source": [
    "try:\n",
    "    print(\"Quantidade total de registros:\", len(df))\n",
    "    df = df.dropna(subset=['Parent_Education_Level'])\n",
    "    logging.info(\"Registros com educação dos pais nula removidos.\")\n",
    "\n",
    "    df['Attendance (%)'] = df['Attendance (%)'].fillna(df['Attendance (%)'].median())\n",
    "    logging.info(\"Valores nulos em 'Attendance (%)' substituídos pela mediana.\")\n",
    "\n",
    "    print(\"Resultado após a limpeza:\", len(df))\n",
    "    print(\"Somatório de Attendance (%):\", df['Attendance (%)'].sum())\n",
    "except Exception as e:\n",
    "    print(\"Erro ao limpar os dados:\", e)\n",
    "    logging.error(f\"Erro na limpeza de dados: {e}\")"
   ]
  },
  {
   "cell_type": "code",
   "execution_count": 6,
   "id": "6f523f12",
   "metadata": {},
   "outputs": [
    {
     "name": "stdout",
     "output_type": "stream",
     "text": [
      "Quantidade total de registros: 3206\n",
      "Colunas disponíveis: ['Age', 'Attendance (%)', 'Midterm_Score', 'Final_Score', 'Assignments_Avg', 'Quizzes_Avg', 'Participation_Score', 'Projects_Score', 'Total_Score', 'Study_Hours_per_Week', 'Stress_Level (1-10)', 'Sleep_Hours_per_Night']\n",
      "Média: 21.04\n",
      "Mediana: 21.0\n",
      "Moda: 21\n",
      "Desvio Padrão: 2.00\n"
     ]
    }
   ],
   "source": [
    "try:\n",
    "    print(\"Quantidade total de registros:\", len(df))\n",
    "    colunas_numericas = list(df.select_dtypes(include=['number']).columns)\n",
    "    print(\"Colunas disponíveis:\", colunas_numericas)\n",
    "\n",
    "    coluna = input(\"Escolha uma coluna numérica: \")\n",
    "\n",
    "    if coluna in colunas_numericas:\n",
    "        media = df[coluna].mean()\n",
    "        mediana = df[coluna].median()\n",
    "        moda = df[coluna].mode()[0]\n",
    "        desvio = df[coluna].std()\n",
    "\n",
    "        print(f\"Média: {media:.2f}\")\n",
    "        print(f\"Mediana: {mediana}\")\n",
    "        print(f\"Moda: {moda}\")\n",
    "        print(f\"Desvio Padrão: {desvio:.2f}\")\n",
    "\n",
    "        logging.info(f\"Análise estatística da coluna: {coluna}\")\n",
    "    else:\n",
    "        print(\"Coluna inválida. Escolha uma coluna numérica válida.\")\n",
    "        logging.warning(f\"Coluna numérica inválida selecionada: {coluna}\")\n",
    "except Exception as e:\n",
    "    print(\"Erro ao calcular estatísticas:\", e)\n",
    "    logging.error(f\"Erro na análise estatística: {e}\")"
   ]
  }
 ],
 "metadata": {
  "kernelspec": {
   "display_name": "Python 3",
   "language": "python",
   "name": "python3"
  },
  "language_info": {
   "codemirror_mode": {
    "name": "ipython",
    "version": 3
   },
   "file_extension": ".py",
   "mimetype": "text/x-python",
   "name": "python",
   "nbconvert_exporter": "python",
   "pygments_lexer": "ipython3",
   "version": "3.13.2"
  }
 },
 "nbformat": 4,
 "nbformat_minor": 5
}
