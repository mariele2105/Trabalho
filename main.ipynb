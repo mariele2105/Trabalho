{
 "cells": [
  {
   "cell_type": "code",
   "execution_count": 1,
   "id": "ea3f061a",
   "metadata": {},
   "outputs": [],
   "source": [
    "import pandas as pd\n",
    "import os\n",
    "import matplotlib.pyplot as plt\n",
    "import logging\n",
    "\n",
    "# Configuração de logging\n",
    "logging.basicConfig(\n",
    "    filename='log_usuario.txt',\n",
    "    level=logging.INFO,\n",
    "    format='%(asctime)s - %(levelname)s - %(message)s'\n",
    ")\n",
    "logging.info(\"Programa iniciado.\")"
   ]
  },
  {
   "cell_type": "code",
   "execution_count": 2,
   "id": "d1278dc4",
   "metadata": {},
   "outputs": [
    {
     "name": "stdout",
     "output_type": "stream",
     "text": [
      "Usuário validado!\n"
     ]
    }
   ],
   "source": [
    "while True:\n",
    "    nome = input(\"Digite seu nome: \")\n",
    "\n",
    "    if nome.replace(\" \", \"\").isalpha() and len(nome) >= 3:\n",
    "        logging.info(f'Usuário validado: {nome}')\n",
    "        print('Usuário validado!')\n",
    "        break\n",
    "\n",
    "    print(\"Nome inválido. Deve conter apenas letras e ter pelo menos 3 caracteres.\")\n",
    "    logging.warning(\"Tentativa de nome inválido.\")"
   ]
  }
 ],
 "metadata": {
  "kernelspec": {
   "display_name": "Python 3",
   "language": "python",
   "name": "python3"
  },
  "language_info": {
   "codemirror_mode": {
    "name": "ipython",
    "version": 3
   },
   "file_extension": ".py",
   "mimetype": "text/x-python",
   "name": "python",
   "nbconvert_exporter": "python",
   "pygments_lexer": "ipython3",
   "version": "3.13.2"
  }
 },
 "nbformat": 4,
 "nbformat_minor": 5
}
