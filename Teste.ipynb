{
 "cells": [
  {
   "cell_type": "code",
   "execution_count": null,
   "id": "cc7a5c01",
   "metadata": {},
   "outputs": [],
   "source": [
    "import pandas as pd \n",
    "import os\n",
    "import matplotlib.pyplot as plt\n",
    "import logging\n",
    "\n",
    "logging.basicConfig(filename='log_usuario.txt', level=logging.INFO,\n",
    "                    format='%(asctime)s - %(levelname)s - %(message)s')\n",
    "logging.info(\"Programa iniciado.\")"
   ]
  },
  {
   "cell_type": "code",
   "execution_count": null,
   "id": "77a5c55f",
   "metadata": {},
   "outputs": [],
   "source": [
    "while True:\n",
    "    nome = input(\"Digite seu nome: \")\n",
    "    if nome.replace(\" \", \"\").isalpha() and len(nome) >= 3:\n",
    "        logging.info(f'Usuário validado: {nome}')\n",
    "        break\n",
    "    print(\"Nome inválido. Deve conter apenas letras e ter pelo menos 3 caracteres.\")\n",
    "    logging.warning(\"Tentativa de nome inválido.\")"
   ]
  }
 ],
 "metadata": {
  "kernelspec": {
   "display_name": "Python 3",
   "language": "python",
   "name": "python3"
  },
  "language_info": {
   "codemirror_mode": {
    "name": "ipython",
    "version": 3
   },
   "file_extension": ".py",
   "mimetype": "text/x-python",
   "name": "python",
   "nbconvert_exporter": "python",
   "pygments_lexer": "ipython3",
   "version": "3.13.2"
  }
 },
 "nbformat": 4,
 "nbformat_minor": 5
}
